{
 "cells": [
  {
   "cell_type": "code",
   "execution_count": null,
   "id": "initial_id",
   "metadata": {},
   "outputs": [],
   "source": [
    "import requests"
   ]
  },
  {
   "cell_type": "code",
   "execution_count": null,
   "id": "6f345e94-8d0c-46ef-89d1-005cce8cb1a9",
   "metadata": {},
   "outputs": [],
   "source": [
    "url = \"http://127.0.0.1:8000/emails-newsletter\"\n",
    "\n",
    "data = {\n",
    "    \"sendPassword\": \"b85feee4-2fa5-4f15-8000-4fed190de30f\"\n",
    "}"
   ]
  },
  {
   "cell_type": "code",
   "execution_count": null,
   "id": "6bebbc0b-1b41-49cf-b565-597e98ef63bc",
   "metadata": {},
   "outputs": [],
   "source": [
    "response = requests.post(url, json=data)"
   ]
  },
  {
   "cell_type": "code",
   "execution_count": null,
   "id": "6a45a8f4-97d5-472c-9d79-b5499ac9dbf8",
   "metadata": {},
   "outputs": [],
   "source": [
    "if response.status_code == 200:\n",
    "    print(f'Success: {response.json()}')\n",
    "else:\n",
    "    print(f'Error ({response.status_code}): {response.text}')"
   ]
  }
 ],
 "metadata": {
  "kernelspec": {
   "display_name": "Python 3 (ipykernel)",
   "language": "python",
   "name": "python3"
  },
  "language_info": {
   "codemirror_mode": {
    "name": "ipython",
    "version": 3
   },
   "file_extension": ".py",
   "mimetype": "text/x-python",
   "name": "python",
   "nbconvert_exporter": "python",
   "pygments_lexer": "ipython3",
   "version": "3.11.6"
  }
 },
 "nbformat": 4,
 "nbformat_minor": 5
}
